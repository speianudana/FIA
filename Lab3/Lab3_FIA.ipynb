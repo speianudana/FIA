{
  "nbformat": 4,
  "nbformat_minor": 0,
  "metadata": {
    "colab": {
      "name": "Lab3_FIA.ipynb",
      "provenance": []
    },
    "kernelspec": {
      "name": "python3",
      "display_name": "Python 3"
    },
    "accelerator": "GPU"
  },
  "cells": [
    {
      "cell_type": "code",
      "metadata": {
        "id": "SKsfuyPT-QXp"
      },
      "source": [
        "from sklearn import linear_model\r\n",
        "from sklearn.metrics import *\r\n",
        "from sklearn.linear_model import LinearRegression\r\n",
        "from sklearn.model_selection import train_test_split\r\n",
        "import pandas \r\n"
      ],
      "execution_count": 46,
      "outputs": []
    },
    {
      "cell_type": "markdown",
      "metadata": {
        "id": "gzLtbQgUSmr6"
      },
      "source": [
        "We will use the dataset provided in the path to make the prediction of the price. "
      ]
    },
    {
      "cell_type": "code",
      "metadata": {
        "id": "iRirDHtvSfQl"
      },
      "source": [
        "path = 'https://raw.githubusercontent.com/speianudana/FIA/main/Lab3/apartmentComplexData.txt'\r\n",
        "columns = ['1', '2', 'complex_age', 'total_rooms', 'total_bedrooms', 'complex_inhabitants', 'apartments_nr', '8', 'median_complex_value'] \r\n"
      ],
      "execution_count": 47,
      "outputs": []
    },
    {
      "cell_type": "markdown",
      "metadata": {
        "id": "z0SzVhWgS4KV"
      },
      "source": [
        "Then using the pandas library we can work with data in a table manner. So, reading from a text file the Pandas library will create a data frame that is in a table form."
      ]
    },
    {
      "cell_type": "code",
      "metadata": {
        "colab": {
          "base_uri": "https://localhost:8080/",
          "height": 284
        },
        "id": "gD6GngaObM7B",
        "outputId": "2df99a85-7b39-4feb-caf9-506a78877cf8"
      },
      "source": [
        "dataset = pandas.read_csv(path, names=columns)\r\n",
        "dataset.describe()"
      ],
      "execution_count": 48,
      "outputs": [
        {
          "output_type": "execute_result",
          "data": {
            "text/html": [
              "<div>\n",
              "<style scoped>\n",
              "    .dataframe tbody tr th:only-of-type {\n",
              "        vertical-align: middle;\n",
              "    }\n",
              "\n",
              "    .dataframe tbody tr th {\n",
              "        vertical-align: top;\n",
              "    }\n",
              "\n",
              "    .dataframe thead th {\n",
              "        text-align: right;\n",
              "    }\n",
              "</style>\n",
              "<table border=\"1\" class=\"dataframe\">\n",
              "  <thead>\n",
              "    <tr style=\"text-align: right;\">\n",
              "      <th></th>\n",
              "      <th>1</th>\n",
              "      <th>2</th>\n",
              "      <th>complex_age</th>\n",
              "      <th>total_rooms</th>\n",
              "      <th>total_bedrooms</th>\n",
              "      <th>complex_inhabitants</th>\n",
              "      <th>apartments_nr</th>\n",
              "      <th>8</th>\n",
              "      <th>median_complex_value</th>\n",
              "    </tr>\n",
              "  </thead>\n",
              "  <tbody>\n",
              "    <tr>\n",
              "      <th>count</th>\n",
              "      <td>20640.000000</td>\n",
              "      <td>20640.000000</td>\n",
              "      <td>20640.000000</td>\n",
              "      <td>20640.000000</td>\n",
              "      <td>20640.000000</td>\n",
              "      <td>20640.000000</td>\n",
              "      <td>20640.000000</td>\n",
              "      <td>20640.000000</td>\n",
              "      <td>20640.000000</td>\n",
              "    </tr>\n",
              "    <tr>\n",
              "      <th>mean</th>\n",
              "      <td>-119.569704</td>\n",
              "      <td>35.631861</td>\n",
              "      <td>28.639486</td>\n",
              "      <td>2635.763081</td>\n",
              "      <td>537.898014</td>\n",
              "      <td>1425.476744</td>\n",
              "      <td>499.539680</td>\n",
              "      <td>3.870671</td>\n",
              "      <td>206855.816909</td>\n",
              "    </tr>\n",
              "    <tr>\n",
              "      <th>std</th>\n",
              "      <td>2.003532</td>\n",
              "      <td>2.135952</td>\n",
              "      <td>12.585558</td>\n",
              "      <td>2181.615252</td>\n",
              "      <td>421.247906</td>\n",
              "      <td>1132.462122</td>\n",
              "      <td>382.329753</td>\n",
              "      <td>1.899822</td>\n",
              "      <td>115395.615874</td>\n",
              "    </tr>\n",
              "    <tr>\n",
              "      <th>min</th>\n",
              "      <td>-124.350000</td>\n",
              "      <td>32.540000</td>\n",
              "      <td>1.000000</td>\n",
              "      <td>2.000000</td>\n",
              "      <td>1.000000</td>\n",
              "      <td>3.000000</td>\n",
              "      <td>1.000000</td>\n",
              "      <td>0.499900</td>\n",
              "      <td>14999.000000</td>\n",
              "    </tr>\n",
              "    <tr>\n",
              "      <th>25%</th>\n",
              "      <td>-121.800000</td>\n",
              "      <td>33.930000</td>\n",
              "      <td>18.000000</td>\n",
              "      <td>1447.750000</td>\n",
              "      <td>295.000000</td>\n",
              "      <td>787.000000</td>\n",
              "      <td>280.000000</td>\n",
              "      <td>2.563400</td>\n",
              "      <td>119600.000000</td>\n",
              "    </tr>\n",
              "    <tr>\n",
              "      <th>50%</th>\n",
              "      <td>-118.490000</td>\n",
              "      <td>34.260000</td>\n",
              "      <td>29.000000</td>\n",
              "      <td>2127.000000</td>\n",
              "      <td>435.000000</td>\n",
              "      <td>1166.000000</td>\n",
              "      <td>409.000000</td>\n",
              "      <td>3.534800</td>\n",
              "      <td>179700.000000</td>\n",
              "    </tr>\n",
              "    <tr>\n",
              "      <th>75%</th>\n",
              "      <td>-118.010000</td>\n",
              "      <td>37.710000</td>\n",
              "      <td>37.000000</td>\n",
              "      <td>3148.000000</td>\n",
              "      <td>647.000000</td>\n",
              "      <td>1725.000000</td>\n",
              "      <td>605.000000</td>\n",
              "      <td>4.743250</td>\n",
              "      <td>264725.000000</td>\n",
              "    </tr>\n",
              "    <tr>\n",
              "      <th>max</th>\n",
              "      <td>-114.310000</td>\n",
              "      <td>41.950000</td>\n",
              "      <td>52.000000</td>\n",
              "      <td>39320.000000</td>\n",
              "      <td>6445.000000</td>\n",
              "      <td>35682.000000</td>\n",
              "      <td>6082.000000</td>\n",
              "      <td>15.000100</td>\n",
              "      <td>500001.000000</td>\n",
              "    </tr>\n",
              "  </tbody>\n",
              "</table>\n",
              "</div>"
            ],
            "text/plain": [
              "                  1             2  ...             8  median_complex_value\n",
              "count  20640.000000  20640.000000  ...  20640.000000          20640.000000\n",
              "mean    -119.569704     35.631861  ...      3.870671         206855.816909\n",
              "std        2.003532      2.135952  ...      1.899822         115395.615874\n",
              "min     -124.350000     32.540000  ...      0.499900          14999.000000\n",
              "25%     -121.800000     33.930000  ...      2.563400         119600.000000\n",
              "50%     -118.490000     34.260000  ...      3.534800         179700.000000\n",
              "75%     -118.010000     37.710000  ...      4.743250         264725.000000\n",
              "max     -114.310000     41.950000  ...     15.000100         500001.000000\n",
              "\n",
              "[8 rows x 9 columns]"
            ]
          },
          "metadata": {
            "tags": []
          },
          "execution_count": 48
        }
      ]
    },
    {
      "cell_type": "markdown",
      "metadata": {
        "id": "FmBxmGXYrGxO"
      },
      "source": [
        "Let's see which columns has the biggest influence on the median_complex_value using the correlation."
      ]
    },
    {
      "cell_type": "code",
      "metadata": {
        "colab": {
          "base_uri": "https://localhost:8080/",
          "height": 314
        },
        "id": "3eOYN7LzqD1o",
        "outputId": "0f9736a1-491e-4537-a2e0-f0b495e753c5"
      },
      "source": [
        "dataset.corr()\r\n"
      ],
      "execution_count": 49,
      "outputs": [
        {
          "output_type": "execute_result",
          "data": {
            "text/html": [
              "<div>\n",
              "<style scoped>\n",
              "    .dataframe tbody tr th:only-of-type {\n",
              "        vertical-align: middle;\n",
              "    }\n",
              "\n",
              "    .dataframe tbody tr th {\n",
              "        vertical-align: top;\n",
              "    }\n",
              "\n",
              "    .dataframe thead th {\n",
              "        text-align: right;\n",
              "    }\n",
              "</style>\n",
              "<table border=\"1\" class=\"dataframe\">\n",
              "  <thead>\n",
              "    <tr style=\"text-align: right;\">\n",
              "      <th></th>\n",
              "      <th>1</th>\n",
              "      <th>2</th>\n",
              "      <th>complex_age</th>\n",
              "      <th>total_rooms</th>\n",
              "      <th>total_bedrooms</th>\n",
              "      <th>complex_inhabitants</th>\n",
              "      <th>apartments_nr</th>\n",
              "      <th>8</th>\n",
              "      <th>median_complex_value</th>\n",
              "    </tr>\n",
              "  </thead>\n",
              "  <tbody>\n",
              "    <tr>\n",
              "      <th>1</th>\n",
              "      <td>1.000000</td>\n",
              "      <td>-0.924664</td>\n",
              "      <td>-0.108197</td>\n",
              "      <td>0.044568</td>\n",
              "      <td>0.068378</td>\n",
              "      <td>0.099773</td>\n",
              "      <td>0.055310</td>\n",
              "      <td>-0.015176</td>\n",
              "      <td>-0.045967</td>\n",
              "    </tr>\n",
              "    <tr>\n",
              "      <th>2</th>\n",
              "      <td>-0.924664</td>\n",
              "      <td>1.000000</td>\n",
              "      <td>0.011173</td>\n",
              "      <td>-0.036100</td>\n",
              "      <td>-0.066318</td>\n",
              "      <td>-0.108785</td>\n",
              "      <td>-0.071035</td>\n",
              "      <td>-0.079809</td>\n",
              "      <td>-0.144160</td>\n",
              "    </tr>\n",
              "    <tr>\n",
              "      <th>complex_age</th>\n",
              "      <td>-0.108197</td>\n",
              "      <td>0.011173</td>\n",
              "      <td>1.000000</td>\n",
              "      <td>-0.361262</td>\n",
              "      <td>-0.320485</td>\n",
              "      <td>-0.296244</td>\n",
              "      <td>-0.302916</td>\n",
              "      <td>-0.119034</td>\n",
              "      <td>0.105623</td>\n",
              "    </tr>\n",
              "    <tr>\n",
              "      <th>total_rooms</th>\n",
              "      <td>0.044568</td>\n",
              "      <td>-0.036100</td>\n",
              "      <td>-0.361262</td>\n",
              "      <td>1.000000</td>\n",
              "      <td>0.929893</td>\n",
              "      <td>0.857126</td>\n",
              "      <td>0.918484</td>\n",
              "      <td>0.198050</td>\n",
              "      <td>0.134153</td>\n",
              "    </tr>\n",
              "    <tr>\n",
              "      <th>total_bedrooms</th>\n",
              "      <td>0.068378</td>\n",
              "      <td>-0.066318</td>\n",
              "      <td>-0.320485</td>\n",
              "      <td>0.929893</td>\n",
              "      <td>1.000000</td>\n",
              "      <td>0.878026</td>\n",
              "      <td>0.979829</td>\n",
              "      <td>-0.008093</td>\n",
              "      <td>0.050594</td>\n",
              "    </tr>\n",
              "    <tr>\n",
              "      <th>complex_inhabitants</th>\n",
              "      <td>0.099773</td>\n",
              "      <td>-0.108785</td>\n",
              "      <td>-0.296244</td>\n",
              "      <td>0.857126</td>\n",
              "      <td>0.878026</td>\n",
              "      <td>1.000000</td>\n",
              "      <td>0.907222</td>\n",
              "      <td>0.004834</td>\n",
              "      <td>-0.024650</td>\n",
              "    </tr>\n",
              "    <tr>\n",
              "      <th>apartments_nr</th>\n",
              "      <td>0.055310</td>\n",
              "      <td>-0.071035</td>\n",
              "      <td>-0.302916</td>\n",
              "      <td>0.918484</td>\n",
              "      <td>0.979829</td>\n",
              "      <td>0.907222</td>\n",
              "      <td>1.000000</td>\n",
              "      <td>0.013033</td>\n",
              "      <td>0.065843</td>\n",
              "    </tr>\n",
              "    <tr>\n",
              "      <th>8</th>\n",
              "      <td>-0.015176</td>\n",
              "      <td>-0.079809</td>\n",
              "      <td>-0.119034</td>\n",
              "      <td>0.198050</td>\n",
              "      <td>-0.008093</td>\n",
              "      <td>0.004834</td>\n",
              "      <td>0.013033</td>\n",
              "      <td>1.000000</td>\n",
              "      <td>0.688075</td>\n",
              "    </tr>\n",
              "    <tr>\n",
              "      <th>median_complex_value</th>\n",
              "      <td>-0.045967</td>\n",
              "      <td>-0.144160</td>\n",
              "      <td>0.105623</td>\n",
              "      <td>0.134153</td>\n",
              "      <td>0.050594</td>\n",
              "      <td>-0.024650</td>\n",
              "      <td>0.065843</td>\n",
              "      <td>0.688075</td>\n",
              "      <td>1.000000</td>\n",
              "    </tr>\n",
              "  </tbody>\n",
              "</table>\n",
              "</div>"
            ],
            "text/plain": [
              "                             1         2  ...         8  median_complex_value\n",
              "1                     1.000000 -0.924664  ... -0.015176             -0.045967\n",
              "2                    -0.924664  1.000000  ... -0.079809             -0.144160\n",
              "complex_age          -0.108197  0.011173  ... -0.119034              0.105623\n",
              "total_rooms           0.044568 -0.036100  ...  0.198050              0.134153\n",
              "total_bedrooms        0.068378 -0.066318  ... -0.008093              0.050594\n",
              "complex_inhabitants   0.099773 -0.108785  ...  0.004834             -0.024650\n",
              "apartments_nr         0.055310 -0.071035  ...  0.013033              0.065843\n",
              "8                    -0.015176 -0.079809  ...  1.000000              0.688075\n",
              "median_complex_value -0.045967 -0.144160  ...  0.688075              1.000000\n",
              "\n",
              "[9 rows x 9 columns]"
            ]
          },
          "metadata": {
            "tags": []
          },
          "execution_count": 49
        }
      ]
    },
    {
      "cell_type": "markdown",
      "metadata": {
        "id": "VDPUzhqoqyWV"
      },
      "source": [
        "Here we observe that the biggest correlation has the column 8 as we can observe than its value is the biggest - 0.688075.\r\n",
        "\r\n",
        "Next we will need to spil the data into data used for training the model, and data used for testing it."
      ]
    },
    {
      "cell_type": "code",
      "metadata": {
        "id": "flh5nFX_MJUC"
      },
      "source": [
        "x =  data_for_training[['1', '2', 'complex_age','total_rooms','total_bedrooms', 'complex_inhabitants','apartments_nr','8']]\r\n",
        "\r\n",
        "y =  data_for_training[['median_complex_value']].values.flatten()\r\n"
      ],
      "execution_count": 50,
      "outputs": []
    },
    {
      "cell_type": "code",
      "metadata": {
        "id": "_wC72GpHU3lN"
      },
      "source": [
        "The training data size is 80% and the testing data size is 20% of all dataset."
      ],
      "execution_count": null,
      "outputs": []
    },
    {
      "cell_type": "code",
      "metadata": {
        "id": "GNbEylaDq8U0"
      },
      "source": [
        "x_train, x_test, y_train, y_test = train_test_split(x, y, train_size=80)"
      ],
      "execution_count": 51,
      "outputs": []
    },
    {
      "cell_type": "markdown",
      "metadata": {
        "id": "BDEzpKtzz1SI"
      },
      "source": [
        "Then we will use the LinearRegression().fit() method will train the model using the x_train -that is training data , and y_train - traget values."
      ]
    },
    {
      "cell_type": "code",
      "metadata": {
        "id": "sBvhaO45fRpn",
        "colab": {
          "base_uri": "https://localhost:8080/"
        },
        "outputId": "8ab69885-287c-4c52-ff54-cdb719ea591e"
      },
      "source": [
        "training = LinearRegression().fit(x_train, y_train)\r\n",
        "training\r\n"
      ],
      "execution_count": 52,
      "outputs": [
        {
          "output_type": "execute_result",
          "data": {
            "text/plain": [
              "LinearRegression(copy_X=True, fit_intercept=True, n_jobs=None, normalize=False)"
            ]
          },
          "metadata": {
            "tags": []
          },
          "execution_count": 52
        }
      ]
    },
    {
      "cell_type": "markdown",
      "metadata": {
        "id": "2Uh9OkV0z0AM"
      },
      "source": [
        "Below we can see the score for training model where x_train - test samples, y_train - true values. And the score for testing model for testing the training model the same: x_test- test samples and y_test - true values. \r\n",
        "\r\n"
      ]
    },
    {
      "cell_type": "code",
      "metadata": {
        "colab": {
          "base_uri": "https://localhost:8080/"
        },
        "id": "vWtKDyQ10v3J",
        "outputId": "a3ccbfb3-5f1e-4506-fed0-7009b5fede51"
      },
      "source": [
        "print(\"Training score:\", training.score(x_train, y_train))\r\n",
        "print(\"Test score:\", training.score(x_test, y_test))\r\n",
        "\r\n"
      ],
      "execution_count": 53,
      "outputs": [
        {
          "output_type": "stream",
          "text": [
            "Training score: 0.6784214015849696\n",
            "Test score: 0.6108275661439804\n"
          ],
          "name": "stdout"
        }
      ]
    },
    {
      "cell_type": "markdown",
      "metadata": {
        "id": "Ve5eA2DHWsu4"
      },
      "source": [
        "Below are the results for the actual price and the predicted price by our model."
      ]
    },
    {
      "cell_type": "code",
      "metadata": {
        "colab": {
          "base_uri": "https://localhost:8080/"
        },
        "id": "q5KNGkquQ2Tw",
        "outputId": "7b5ff032-8a4f-4ddc-ef6c-d5a163b68437"
      },
      "source": [
        "print(\"The actual price:\", y_test[0])\r\n",
        "print(\"Predicted price:\", training.predict([x_test.iloc[0]])[0])\r\n"
      ],
      "execution_count": 54,
      "outputs": [
        {
          "output_type": "stream",
          "text": [
            "The actual price: 144800.0\n",
            "Predicted price: 212410.94266386796\n"
          ],
          "name": "stdout"
        }
      ]
    }
  ]
}